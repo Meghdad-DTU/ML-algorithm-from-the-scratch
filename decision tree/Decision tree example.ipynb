{
 "cells": [
  {
   "cell_type": "code",
   "execution_count": 1,
   "metadata": {},
   "outputs": [],
   "source": [
    "from DecisionTreeClassifier import DecisionTreeClassifier\n",
    "import numpy as np\n",
    "import matplotlib.pyplot as plt\n",
    "from pprint import pprint\n",
    "from sklearn.model_selection import train_test_split \n",
    "from sklearn.metrics import confusion_matrix"
   ]
  },
  {
   "cell_type": "code",
   "execution_count": 2,
   "metadata": {},
   "outputs": [],
   "source": [
    "dataSet = \"data_banknote_authentication.txt\""
   ]
  },
  {
   "cell_type": "markdown",
   "metadata": {},
   "source": [
    "#### Data Description\n",
    "Data were extracted from images that were taken from genuine and forged banknote-like specimens. For digitization, an industrial camera usually used for print inspection was used. The final images have 400x 400 pixels. Due to the object lens and distance to the investigated object gray-scale pictures with a resolution of about 660 dpi were gained. Wavelet Transform tool were used to extract features from images.\n",
    "\n",
    "#### Variables\n",
    "- Variance of Wavelet Transformed image (continuous)\n",
    "- Skewness of Wavelet Transformed image (continuous)\n",
    "- Curtosis of Wavelet Transformed image (continuous)\n",
    "- Entropy of image (continuous)\n",
    "- Class (integer, 0 = real, 1 = fake)"
   ]
  },
  {
   "cell_type": "code",
   "execution_count": 3,
   "metadata": {},
   "outputs": [],
   "source": [
    "## convert text file into matrix\n",
    "def file2matrix(filename , header = True, delimeter=\"\\t\", index_y = None):\n",
    "    \"\"\"\n",
    "    Takes a .txt file and returns a list of column names,a matrix of features and\n",
    "    a vectore of y in case of having a target variable.\n",
    "    \"\"\"    \n",
    "    fr = open(filename)\n",
    "    colName = []\n",
    "    if header == True:\n",
    "        colName = list(fr.readline().strip().split(delimeter))\n",
    "    numberOfLines = len(fr.readlines())\n",
    "    fr = open(filename)\n",
    "    numberOfX = len(fr.readline().split(delimeter)) \n",
    "    if index_y is not None:\n",
    "        numberOfX = len(fr.readline().split(delimeter))-1                   \n",
    "    returnMatX = np.zeros((numberOfLines,numberOfX))\n",
    "    classLabelVector = []\n",
    "    fr = open(filename)\n",
    "    firstRow = 0\n",
    "    if header == True:\n",
    "        firstRow = 1\n",
    "    index = 0\n",
    "    for line in fr.readlines()[firstRow:]:\n",
    "        line = line.strip()                            \n",
    "        listFromLine = line.split(delimeter)\n",
    "        if index_y is not None:\n",
    "            classLabelVector.append(listFromLine[index_y])\n",
    "            listFromLine.pop(index_y)\n",
    "        fltListFromLine = list(map(lambda x: float(x) if x!=\"\" else np.nan, listFromLine))                                 \n",
    "        returnMatX[index,:] = fltListFromLine        \n",
    "        index += 1\n",
    "    return colName, returnMatX, classLabelVector"
   ]
  },
  {
   "cell_type": "code",
   "execution_count": 4,
   "metadata": {},
   "outputs": [],
   "source": [
    "## confusion matrix plot\n",
    "def plot_cm(y, y_est):\n",
    "    cm = confusion_matrix(y, y_est);\n",
    "    accuracy = np.round(100*cm.diagonal().sum()/cm.sum(),2); error_rate = np.round(100-accuracy,2)\n",
    "    plt.imshow(cm, cmap='binary', interpolation='None')\n",
    "    plt.colorbar()\n",
    "    #plt.xticks(range(C)); plt.yticks(range(C));\n",
    "    plt.xlabel('Predicted class'); plt.ylabel('Actual class');\n",
    "    plt.title('Confusion matrix (Accuracy: {0}%, Error Rate: {1}%)'.format(accuracy, error_rate));"
   ]
  },
  {
   "cell_type": "code",
   "execution_count": 11,
   "metadata": {},
   "outputs": [
    {
     "name": "stdout",
     "output_type": "stream",
     "text": [
      "(1372, 4)\n"
     ]
    }
   ],
   "source": [
    "colName, X, classLabelVector = file2matrix(dataSet, header = False, delimeter=\",\", index_y =-1)\n",
    "featureName = [\"Variance\", \"Skewness\", \"Curtosis\", \"Entropy\"]\n",
    "y = np.array([int(val) for val in classLabelVector])\n",
    "print(X.shape)\n",
    "X_train, X_test, y_train, y_test = train_test_split(X, y, test_size=0.33)"
   ]
  },
  {
   "cell_type": "code",
   "execution_count": 12,
   "metadata": {},
   "outputs": [
    {
     "name": "stdout",
     "output_type": "stream",
     "text": [
      "{'col': 'Variance',\n",
      " 'cut_off': 0.3223,\n",
      " 'index_col': 0,\n",
      " 'left': {'col': 'Skewness',\n",
      "          'cut_off': 8.1881,\n",
      "          'index_col': 1,\n",
      "          'left': {'col': 'Variance',\n",
      "                   'cut_off': -0.24811,\n",
      "                   'index_col': 0,\n",
      "                   'left': {'col': 'Curtosis',\n",
      "                            'cut_off': 6.2204,\n",
      "                            'index_col': 2,\n",
      "                            'left': {'col': 'Skewness',\n",
      "                                     'cut_off': 7.886,\n",
      "                                     'index_col': 1,\n",
      "                                     'left': {'col': 'Variance',\n",
      "                                              'cut_off': -0.39816,\n",
      "                                              'index_col': 0,\n",
      "                                              'left': {'val': 1.0},\n",
      "                                              'right': {'col': 'Variance',\n",
      "                                                        'cut_off': -0.36506,\n",
      "                                                        'index_col': 0,\n",
      "                                                        'left': {'val': 0.0},\n",
      "                                                        'right': {'val': 1.0},\n",
      "                                                        'samples': 6,\n",
      "                                                        'val': 1.0},\n",
      "                                              'samples': 239,\n",
      "                                              'val': 1.0},\n",
      "                                     'right': {'col': 'Variance',\n",
      "                                               'cut_off': -1.8584,\n",
      "                                               'index_col': 0,\n",
      "                                               'left': {'val': 1.0},\n",
      "                                               'right': {'val': 0.0},\n",
      "                                               'samples': 5,\n",
      "                                               'val': 1.0},\n",
      "                                     'samples': 244,\n",
      "                                     'val': 1.0},\n",
      "                            'right': {'col': 'Skewness',\n",
      "                                      'cut_off': -4.6062,\n",
      "                                      'index_col': 1,\n",
      "                                      'left': {'val': 1.0},\n",
      "                                      'right': {'col': 'Variance',\n",
      "                                                'cut_off': -1.7781,\n",
      "                                                'index_col': 0,\n",
      "                                                'left': {'val': 1.0},\n",
      "                                                'right': {'val': 0.0},\n",
      "                                                'samples': 14,\n",
      "                                                'val': 1.0},\n",
      "                                      'samples': 105,\n",
      "                                      'val': 1.0},\n",
      "                            'samples': 349,\n",
      "                            'val': 1.0},\n",
      "                   'right': {'col': 'Curtosis',\n",
      "                             'cut_off': 0.26876,\n",
      "                             'index_col': 2,\n",
      "                             'left': {'val': 1.0},\n",
      "                             'right': {'col': 'Variance',\n",
      "                                       'cut_off': 0.030219,\n",
      "                                       'index_col': 0,\n",
      "                                       'left': {'val': 0.0},\n",
      "                                       'right': {'col': 'Skewness',\n",
      "                                                 'cut_off': -0.46146,\n",
      "                                                 'index_col': 1,\n",
      "                                                 'left': {'val': 1.0},\n",
      "                                                 'right': {'val': 0.0},\n",
      "                                                 'samples': 7,\n",
      "                                                 'val': 1.0},\n",
      "                                       'samples': 18,\n",
      "                                       'val': 1.0},\n",
      "                             'samples': 43,\n",
      "                             'val': 1.0},\n",
      "                   'samples': 392,\n",
      "                   'val': 1.0},\n",
      "          'right': {'col': 'Variance',\n",
      "                    'cut_off': -4.2859,\n",
      "                    'index_col': 0,\n",
      "                    'left': {'val': 1.0},\n",
      "                    'right': {'val': 0.0},\n",
      "                    'samples': 58,\n",
      "                    'val': 1.0},\n",
      "          'samples': 450,\n",
      "          'val': 1.0},\n",
      " 'right': {'col': 'Curtosis',\n",
      "           'cut_off': -4.383,\n",
      "           'index_col': 2,\n",
      "           'left': {'col': 'Variance',\n",
      "                    'cut_off': 4.2164,\n",
      "                    'index_col': 0,\n",
      "                    'left': {'val': 1.0},\n",
      "                    'right': {'val': 0.0},\n",
      "                    'samples': 26,\n",
      "                    'val': 1.0},\n",
      "           'right': {'col': 'Variance',\n",
      "                     'cut_off': 1.4507,\n",
      "                     'index_col': 0,\n",
      "                     'left': {'col': 'Curtosis',\n",
      "                              'cut_off': -2.2135,\n",
      "                              'index_col': 2,\n",
      "                              'left': {'val': 1.0},\n",
      "                              'right': {'col': 'Entropy',\n",
      "                                        'cut_off': 0.097399,\n",
      "                                        'index_col': 3,\n",
      "                                        'left': {'col': 'Variance',\n",
      "                                                 'cut_off': 0.4339,\n",
      "                                                 'index_col': 0,\n",
      "                                                 'left': {'col': 'Variance',\n",
      "                                                          'cut_off': 0.40614,\n",
      "                                                          'index_col': 0,\n",
      "                                                          'left': {'val': 0.0},\n",
      "                                                          'right': {'val': 1.0},\n",
      "                                                          'samples': 10,\n",
      "                                                          'val': 1.0},\n",
      "                                                 'right': {'val': 0.0},\n",
      "                                                 'samples': 70,\n",
      "                                                 'val': 1.0},\n",
      "                                        'right': {'col': 'Curtosis',\n",
      "                                                  'cut_off': 2.1341,\n",
      "                                                  'index_col': 2,\n",
      "                                                  'left': {'col': 'Skewness',\n",
      "                                                           'cut_off': 6.1189,\n",
      "                                                           'index_col': 1,\n",
      "                                                           'left': {'val': 1.0},\n",
      "                                                           'right': {'val': 0.0},\n",
      "                                                           'samples': 14,\n",
      "                                                           'val': 1.0},\n",
      "                                                  'right': {'val': 0.0},\n",
      "                                                  'samples': 24,\n",
      "                                                  'val': 1.0},\n",
      "                                        'samples': 94,\n",
      "                                        'val': 1.0},\n",
      "                              'samples': 111,\n",
      "                              'val': 1.0},\n",
      "                     'right': {'col': 'Variance',\n",
      "                               'cut_off': 2.0421,\n",
      "                               'index_col': 0,\n",
      "                               'left': {'col': 'Curtosis',\n",
      "                                        'cut_off': -2.2718,\n",
      "                                        'index_col': 2,\n",
      "                                        'left': {'col': 'Skewness',\n",
      "                                                 'cut_off': 8.871,\n",
      "                                                 'index_col': 1,\n",
      "                                                 'left': {'val': 1.0},\n",
      "                                                 'right': {'val': 0.0},\n",
      "                                                 'samples': 6,\n",
      "                                                 'val': 1.0},\n",
      "                                        'right': {'val': 0.0},\n",
      "                                        'samples': 54,\n",
      "                                        'val': 1.0},\n",
      "                               'right': {'val': 0.0},\n",
      "                               'samples': 332,\n",
      "                               'val': 1.0},\n",
      "                     'samples': 443,\n",
      "                     'val': 1.0},\n",
      "           'samples': 469,\n",
      "           'val': 1.0},\n",
      " 'samples': 919,\n",
      " 'val': 1.0}\n"
     ]
    }
   ],
   "source": [
    "model = DecisionTreeClassifier()\n",
    "model.fit(X_train,y_train,featureName)\n",
    "pprint(model.trees_)"
   ]
  },
  {
   "cell_type": "code",
   "execution_count": 13,
   "metadata": {},
   "outputs": [
    {
     "name": "stdout",
     "output_type": "stream",
     "text": [
      "0.998911860718172\n"
     ]
    },
    {
     "data": {
      "text/plain": [
       "array([[258,   9],\n",
       "       [  6, 180]], dtype=int64)"
      ]
     },
     "execution_count": 13,
     "metadata": {},
     "output_type": "execute_result"
    },
    {
     "data": {
      "image/png": "[encoded data removed]",
      "text/plain": [
       "<Figure size 432x288 with 2 Axes>"
      ]
     },
     "metadata": {
      "needs_background": "light"
     },
     "output_type": "display_data"
    }
   ],
   "source": [
    "print(model.score())\n",
    "pred = model.prediction(X_test)\n",
    "plot_cm(y_test,pred)\n",
    "confusion_matrix(y_test, pred)"
   ]
  }
 ],
 "metadata": {
  "kernelspec": {
   "display_name": "Python 3",
   "language": "python",
   "name": "python3"
  },
  "language_info": {
   "codemirror_mode": {
    "name": "ipython",
    "version": 3
   },
   "file_extension": ".py",
   "mimetype": "text/x-python",
   "name": "python",
   "nbconvert_exporter": "python",
   "pygments_lexer": "ipython3",
   "version": "3.7.4"
  }
 },
 "nbformat": 4,
 "nbformat_minor": 2
}
