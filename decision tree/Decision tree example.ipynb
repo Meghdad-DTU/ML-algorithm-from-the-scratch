{
 "cells": [
  {
   "cell_type": "code",
   "execution_count": 14,
   "metadata": {},
   "outputs": [],
   "source": [
    "from DecisionTreeClassifier import DecisionTreeClassifier\n",
    "import numpy as np\n",
    "from sklearn.model_selection import train_test_split "
   ]
  },
  {
   "cell_type": "code",
   "execution_count": 15,
   "metadata": {},
   "outputs": [],
   "source": [
    "dataSet = \"data_banknote_authentication.txt\""
   ]
  },
  {
   "cell_type": "markdown",
   "metadata": {},
   "source": [
    "#### Data Description\n",
    "Data were extracted from images that were taken from genuine and forged banknote-like specimens. For digitization, an industrial camera usually used for print inspection was used. The final images have 400x 400 pixels. Due to the object lens and distance to the investigated object gray-scale pictures with a resolution of about 660 dpi were gained. Wavelet Transform tool were used to extract features from images.\n",
    "\n",
    "#### Variables\n",
    "- Variance of Wavelet Transformed image (continuous)\n",
    "- Skewness of Wavelet Transformed image (continuous)\n",
    "- Curtosis of Wavelet Transformed image (continuous)\n",
    "- Entropy of image (continuous)\n",
    "- Class (integer, 0 = real, 1 = fake)"
   ]
  },
  {
   "cell_type": "code",
   "execution_count": 16,
   "metadata": {},
   "outputs": [],
   "source": [
    "## convert text file into matrix\n",
    "def file2matrix(filename, delimeter=\"\\t\", index_y =-1):\n",
    "    fr = open(filename)\n",
    "    numberOfLines = len(fr.readlines())\n",
    "    fr = open(filename)\n",
    "    numberOfX = len(fr.readline().split(delimeter))-1\n",
    "    returnMatX = np.zeros((numberOfLines,numberOfX))\n",
    "    classLabelVector = []\n",
    "    fr = open(filename)\n",
    "    index = 0\n",
    "    for line in fr.readlines():\n",
    "        line = line.strip()                                 # remove space between lines (rows)\n",
    "        listFromLine = line.split(delimeter)                # split the line into a list of elements delimited '\\t'.\n",
    "        classLabelVector.append(int(listFromLine[index_y])) # get target item from the list to put into classLabelVector\n",
    "        listFromLine.pop(index_y)                           # remove the target item at the specified position       \n",
    "        returnMatX[index,:] = listFromLine        \n",
    "        index += 1\n",
    "    return returnMatX,classLabelVector"
   ]
  },
  {
   "cell_type": "code",
   "execution_count": 19,
   "metadata": {},
   "outputs": [
    {
     "name": "stdout",
     "output_type": "stream",
     "text": [
      "(1372, 4)\n"
     ]
    }
   ],
   "source": [
    "X, y = file2matrix(dataSet, delimeter=\",\", index_y =-1)\n",
    "featureName = [\"Variance\", \"Skewness\", \"Curtosis\", \"Entropy\"]\n",
    "print(X.shape)\n",
    "X_train, X_test, y_train, y_test = train_test_split(X, y, test_size=0.33)"
   ]
  },
  {
   "cell_type": "code",
   "execution_count": 20,
   "metadata": {},
   "outputs": [],
   "source": [
    "myTree = DecisionTreeClassifier(max_depth=7, min_size=10)\n",
    "myTree.tree(X_train,y_train,featureName)\n",
    "myTree.fit(X_train,y_train)\n",
    "pred = myTree.prediction(X_test)"
   ]
  },
  {
   "cell_type": "code",
   "execution_count": 22,
   "metadata": {},
   "outputs": [
    {
     "data": {
      "text/plain": [
       "0.9757174392935982"
      ]
     },
     "execution_count": 22,
     "metadata": {},
     "output_type": "execute_result"
    }
   ],
   "source": [
    "count=0\n",
    "for x, y in zip(pred,y_test):    \n",
    "    if x==y:\n",
    "        count+=1\n",
    "accuracy = count/len(y_test)\n",
    "accuracy"
   ]
  }
 ],
 "metadata": {
  "kernelspec": {
   "display_name": "Python 3",
   "language": "python",
   "name": "python3"
  },
  "language_info": {
   "codemirror_mode": {
    "name": "ipython",
    "version": 3
   },
   "file_extension": ".py",
   "mimetype": "text/x-python",
   "name": "python",
   "nbconvert_exporter": "python",
   "pygments_lexer": "ipython3",
   "version": "3.7.4"
  }
 },
 "nbformat": 4,
 "nbformat_minor": 2
}
