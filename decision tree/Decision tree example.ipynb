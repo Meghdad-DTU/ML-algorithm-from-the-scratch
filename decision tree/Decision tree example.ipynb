{
 "cells": [
  {
   "cell_type": "code",
   "execution_count": 24,
   "metadata": {},
   "outputs": [],
   "source": [
    "from DecisionTreeClassifier import DecisionTreeClassifier\n",
    "import numpy as np\n",
    "from pprint import pprint\n",
    "from sklearn.model_selection import train_test_split "
   ]
  },
  {
   "cell_type": "code",
   "execution_count": 15,
   "metadata": {},
   "outputs": [],
   "source": [
    "dataSet = \"data_banknote_authentication.txt\""
   ]
  },
  {
   "cell_type": "markdown",
   "metadata": {},
   "source": [
    "#### Data Description\n",
    "Data were extracted from images that were taken from genuine and forged banknote-like specimens. For digitization, an industrial camera usually used for print inspection was used. The final images have 400x 400 pixels. Due to the object lens and distance to the investigated object gray-scale pictures with a resolution of about 660 dpi were gained. Wavelet Transform tool were used to extract features from images.\n",
    "\n",
    "#### Variables\n",
    "- Variance of Wavelet Transformed image (continuous)\n",
    "- Skewness of Wavelet Transformed image (continuous)\n",
    "- Curtosis of Wavelet Transformed image (continuous)\n",
    "- Entropy of image (continuous)\n",
    "- Class (integer, 0 = real, 1 = fake)"
   ]
  },
  {
   "cell_type": "code",
   "execution_count": 16,
   "metadata": {},
   "outputs": [],
   "source": [
    "## convert text file into matrix\n",
    "def file2matrix(filename, delimeter=\"\\t\", index_y =-1):\n",
    "    fr = open(filename)\n",
    "    numberOfLines = len(fr.readlines())\n",
    "    fr = open(filename)\n",
    "    numberOfX = len(fr.readline().split(delimeter))-1\n",
    "    returnMatX = np.zeros((numberOfLines,numberOfX))\n",
    "    classLabelVector = []\n",
    "    fr = open(filename)\n",
    "    index = 0\n",
    "    for line in fr.readlines():\n",
    "        line = line.strip()                                 # remove space between lines (rows)\n",
    "        listFromLine = line.split(delimeter)                # split the line into a list of elements delimited '\\t'.\n",
    "        classLabelVector.append(int(listFromLine[index_y])) # get target item from the list to put into classLabelVector\n",
    "        listFromLine.pop(index_y)                           # remove the target item at the specified position       \n",
    "        returnMatX[index,:] = listFromLine        \n",
    "        index += 1\n",
    "    return returnMatX,classLabelVector"
   ]
  },
  {
   "cell_type": "code",
   "execution_count": 19,
   "metadata": {},
   "outputs": [
    {
     "name": "stdout",
     "output_type": "stream",
     "text": [
      "(1372, 4)\n"
     ]
    }
   ],
   "source": [
    "X, y = file2matrix(dataSet, delimeter=\",\", index_y =-1)\n",
    "featureName = [\"Variance\", \"Skewness\", \"Curtosis\", \"Entropy\"]\n",
    "print(X.shape)\n",
    "X_train, X_test, y_train, y_test = train_test_split(X, y, test_size=0.33)"
   ]
  },
  {
   "cell_type": "code",
   "execution_count": 26,
   "metadata": {},
   "outputs": [
    {
     "name": "stdout",
     "output_type": "stream",
     "text": [
      "{'col': 'Variance',\n",
      " 'cut_off': 0.29961,\n",
      " 'index_col': 0,\n",
      " 'left': {'col': 'Skewness',\n",
      "          'cut_off': 7.6274,\n",
      "          'index_col': 1,\n",
      "          'left': {'col': 'Variance',\n",
      "                   'cut_off': -0.16682,\n",
      "                   'index_col': 0,\n",
      "                   'left': {'col': 'Curtosis',\n",
      "                            'cut_off': 6.7756,\n",
      "                            'index_col': 2,\n",
      "                            'left': {'col': 'Variance',\n",
      "                                     'cut_off': -0.39816,\n",
      "                                     'index_col': 0,\n",
      "                                     'left': {'val': 1.0},\n",
      "                                     'right': {'col': 'Variance',\n",
      "                                               'cut_off': -0.39416,\n",
      "                                               'index_col': 0,\n",
      "                                               'left': {'val': 0.0},\n",
      "                                               'right': {'val': 1.0},\n",
      "                                               'samples': 14,\n",
      "                                               'val': 1.0},\n",
      "                                     'samples': 247,\n",
      "                                     'val': 1.0},\n",
      "                            'right': {'col': 'Skewness',\n",
      "                                      'cut_off': -4.6062,\n",
      "                                      'index_col': 1,\n",
      "                                      'left': {'val': 1.0},\n",
      "                                      'right': {'val': 0.0},\n",
      "                                      'samples': 96,\n",
      "                                      'val': 1.0},\n",
      "                            'samples': 343,\n",
      "                            'val': 1.0},\n",
      "                   'right': {'col': 'Skewness',\n",
      "                             'cut_off': 5.8974,\n",
      "                             'index_col': 1,\n",
      "                             'left': {'col': 'Curtosis',\n",
      "                                      'cut_off': 8.03,\n",
      "                                      'index_col': 2,\n",
      "                                      'left': {'val': 1.0},\n",
      "                                      'right': {'val': 0.0},\n",
      "                                      'samples': 24,\n",
      "                                      'val': 1.0},\n",
      "                             'right': {'val': 0.0},\n",
      "                             'samples': 31,\n",
      "                             'val': 1.0},\n",
      "                   'samples': 374,\n",
      "                   'val': 1.0},\n",
      "          'right': {'col': 'Variance',\n",
      "                    'cut_off': -4.2859,\n",
      "                    'index_col': 0,\n",
      "                    'left': {'val': 1.0},\n",
      "                    'right': {'val': 0.0},\n",
      "                    'samples': 66,\n",
      "                    'val': 1.0},\n",
      "          'samples': 440,\n",
      "          'val': 1.0},\n",
      " 'right': {'col': 'Curtosis',\n",
      "           'cut_off': -4.3839,\n",
      "           'index_col': 2,\n",
      "           'left': {'col': 'Variance',\n",
      "                    'cut_off': 4.2164,\n",
      "                    'index_col': 0,\n",
      "                    'left': {'val': 1.0},\n",
      "                    'right': {'val': 0.0},\n",
      "                    'samples': 32,\n",
      "                    'val': 1.0},\n",
      "           'right': {'col': 'Variance',\n",
      "                     'cut_off': 1.5691,\n",
      "                     'index_col': 0,\n",
      "                     'left': {'col': 'Curtosis',\n",
      "                              'cut_off': -2.2324,\n",
      "                              'index_col': 2,\n",
      "                              'left': {'col': 'Skewness',\n",
      "                                       'cut_off': 7.6377,\n",
      "                                       'index_col': 1,\n",
      "                                       'left': {'val': 1.0},\n",
      "                                       'right': {'val': 0.0},\n",
      "                                       'samples': 15,\n",
      "                                       'val': 1.0},\n",
      "                              'right': {'col': 'Entropy',\n",
      "                                        'cut_off': 0.097399,\n",
      "                                        'index_col': 3,\n",
      "                                        'left': {'col': 'Variance',\n",
      "                                                 'cut_off': 0.49665,\n",
      "                                                 'index_col': 0,\n",
      "                                                 'left': {'col': 'Variance',\n",
      "                                                          'cut_off': 0.40614,\n",
      "                                                          'index_col': 0,\n",
      "                                                          'left': {'val': 0.0},\n",
      "                                                          'right': {'val': 1.0},\n",
      "                                                          'samples': 12,\n",
      "                                                          'val': 1.0},\n",
      "                                                 'right': {'val': 0.0},\n",
      "                                                 'samples': 76,\n",
      "                                                 'val': 1.0},\n",
      "                                        'right': {'col': 'Curtosis',\n",
      "                                                  'cut_off': 2.0013,\n",
      "                                                  'index_col': 2,\n",
      "                                                  'left': {'col': 'Skewness',\n",
      "                                                           'cut_off': 6.1189,\n",
      "                                                           'index_col': 1,\n",
      "                                                           'left': {'val': 1.0},\n",
      "                                                           'right': {'val': 0.0},\n",
      "                                                           'samples': 14,\n",
      "                                                           'val': 1.0},\n",
      "                                                  'right': {'val': 0.0},\n",
      "                                                  'samples': 25,\n",
      "                                                  'val': 1.0},\n",
      "                                        'samples': 101,\n",
      "                                        'val': 1.0},\n",
      "                              'samples': 116,\n",
      "                              'val': 1.0},\n",
      "                     'right': {'col': 'Variance',\n",
      "                               'cut_off': 2.0421,\n",
      "                               'index_col': 0,\n",
      "                               'left': {'col': 'Curtosis',\n",
      "                                        'cut_off': -1.2641,\n",
      "                                        'index_col': 2,\n",
      "                                        'left': {'val': 1.0},\n",
      "                                        'right': {'val': 0.0},\n",
      "                                        'samples': 39,\n",
      "                                        'val': 1.0},\n",
      "                               'right': {'val': 0.0},\n",
      "                               'samples': 331,\n",
      "                               'val': 1.0},\n",
      "                     'samples': 447,\n",
      "                     'val': 1.0},\n",
      "           'samples': 479,\n",
      "           'val': 1.0},\n",
      " 'samples': 919,\n",
      " 'val': 1}\n"
     ]
    }
   ],
   "source": [
    "myTree = DecisionTreeClassifier(max_depth=7, min_size=10)\n",
    "pprint(myTree.tree(X_train,y_train,featureName))"
   ]
  },
  {
   "cell_type": "code",
   "execution_count": 27,
   "metadata": {},
   "outputs": [],
   "source": [
    "myTree.fit(X_train,y_train)\n",
    "pred = myTree.prediction(X_test)"
   ]
  },
  {
   "cell_type": "code",
   "execution_count": 28,
   "metadata": {},
   "outputs": [
    {
     "data": {
      "text/plain": [
       "0.9757174392935982"
      ]
     },
     "execution_count": 28,
     "metadata": {},
     "output_type": "execute_result"
    }
   ],
   "source": [
    "count=0\n",
    "for x, y in zip(pred,y_test):    \n",
    "    if x==y:\n",
    "        count+=1\n",
    "accuracy = count/len(y_test)\n",
    "accuracy"
   ]
  }
 ],
 "metadata": {
  "kernelspec": {
   "display_name": "Python 3",
   "language": "python",
   "name": "python3"
  },
  "language_info": {
   "codemirror_mode": {
    "name": "ipython",
    "version": 3
   },
   "file_extension": ".py",
   "mimetype": "text/x-python",
   "name": "python",
   "nbconvert_exporter": "python",
   "pygments_lexer": "ipython3",
   "version": "3.7.4"
  }
 },
 "nbformat": 4,
 "nbformat_minor": 2
}
