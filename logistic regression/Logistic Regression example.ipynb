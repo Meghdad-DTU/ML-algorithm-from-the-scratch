{
 "cells": [
  {
   "cell_type": "code",
   "execution_count": 9,
   "metadata": {},
   "outputs": [],
   "source": [
    "from LogisticRegression import LogisticRegression\n",
    "import numpy as np\n",
    "import matplotlib.pyplot as plt\n",
    "from sklearn.model_selection import train_test_split\n",
    "from sklearn.metrics import confusion_matrix"
   ]
  },
  {
   "cell_type": "code",
   "execution_count": 2,
   "metadata": {},
   "outputs": [],
   "source": [
    "## convert text file into matrix\n",
    "def file2matrix(filename , header = True, delimeter=\"\\t\", index_y = None):\n",
    "    \"\"\"\n",
    "    Takes a .txt file and returns a list of column names,a matrix of features and\n",
    "    a vectore of y in case of having a target variable.\n",
    "    \"\"\"    \n",
    "    fr = open(filename)\n",
    "    colName = []\n",
    "    if header == True:\n",
    "        colName = list(fr.readline().strip().split(delimeter))\n",
    "    numberOfLines = len(fr.readlines())\n",
    "    fr = open(filename)\n",
    "    numberOfX = len(fr.readline().split(delimeter)) \n",
    "    if index_y is not None:\n",
    "        numberOfX = len(fr.readline().split(delimeter))-1                   \n",
    "    returnMatX = np.zeros((numberOfLines,numberOfX))\n",
    "    classLabelVector = []\n",
    "    fr = open(filename)\n",
    "    firstRow = 0\n",
    "    if header == True:\n",
    "        firstRow = 1\n",
    "    index = 0\n",
    "    for line in fr.readlines()[firstRow:]:\n",
    "        line = line.strip()                            \n",
    "        listFromLine = line.split(delimeter)\n",
    "        if index_y is not None:\n",
    "            classLabelVector.append(listFromLine[index_y])\n",
    "            listFromLine.pop(index_y)\n",
    "        fltListFromLine = list(map(lambda x: float(x) if x!=\"\" else np.nan, listFromLine))                                 \n",
    "        returnMatX[index,:] = fltListFromLine        \n",
    "        index += 1\n",
    "    return colName, returnMatX, classLabelVector"
   ]
  },
  {
   "cell_type": "code",
   "execution_count": 3,
   "metadata": {},
   "outputs": [],
   "source": [
    "filename = \"testSet.txt\"\n",
    "colName, returnMatX, classLabelVector = file2matrix(filename, header = True, index_y = -1)\n",
    "y = [int(x) for x in classLabelVector]\n",
    "X = returnMatX"
   ]
  },
  {
   "cell_type": "code",
   "execution_count": 4,
   "metadata": {},
   "outputs": [
    {
     "data": {
      "image/png": "[encoded data removed]",
      "text/plain": [
       "<Figure size 432x288 with 1 Axes>"
      ]
     },
     "metadata": {
      "needs_background": "light"
     },
     "output_type": "display_data"
    }
   ],
   "source": [
    "for x1, x2, target in zip(X[:,0], X[:,1], np.array(y)):\n",
    "    if target == 0:\n",
    "        plt.scatter(x1, x2, s = 70, color = \"blue\", edgecolors=\"k\")\n",
    "    else:\n",
    "        plt.scatter(x1, x2, color = \"red\", edgecolors=\"k\") \n",
    "\n",
    "plt.xlabel(\"X1\")\n",
    "plt.ylabel(\"X2\");"
   ]
  },
  {
   "cell_type": "code",
   "execution_count": 16,
   "metadata": {},
   "outputs": [],
   "source": [
    "## confusion matrix plot\n",
    "def plot_cm(y, y_est):\n",
    "    cm = confusion_matrix(y, y_est);\n",
    "    accuracy = np.round(100*cm.diagonal().sum()/cm.sum(),2); error_rate = np.round(100-accuracy,2)\n",
    "    plt.imshow(cm, cmap='binary', interpolation='None')\n",
    "    plt.colorbar()\n",
    "    #plt.xticks(range(C)); plt.yticks(range(C));\n",
    "    plt.xlabel('Predicted class'); plt.ylabel('Actual class');\n",
    "    plt.title('Confusion matrix (Accuracy: {0}%, Error Rate: {1}%)'.format(accuracy, error_rate));"
   ]
  },
  {
   "cell_type": "code",
   "execution_count": 18,
   "metadata": {},
   "outputs": [
    {
     "name": "stdout",
     "output_type": "stream",
     "text": [
      "loss: 0.2767\n",
      "loss: 0.0784\n",
      "loss: 0.0784\n",
      "loss: 0.0784\n",
      "loss: 0.0784\n",
      "loss: 0.0784\n",
      "loss: 0.0784\n",
      "loss: 0.0784\n",
      "loss: 0.0784\n",
      "loss: 0.0784\n"
     ]
    },
    {
     "data": {
      "text/plain": [
       "array([[13,  2],\n",
       "       [ 0, 18]], dtype=int64)"
      ]
     },
     "execution_count": 18,
     "metadata": {},
     "output_type": "execute_result"
    },
    {
     "data": {
      "image/png": "[encoded data removed]",
      "text/plain": [
       "<Figure size 432x288 with 2 Axes>"
      ]
     },
     "metadata": {
      "needs_background": "light"
     },
     "output_type": "display_data"
    }
   ],
   "source": [
    "X_train, X_test, y_train, y_test = train_test_split(X, y, test_size=0.33)\n",
    "model = LogisticRegression(verbose=True)\n",
    "model.fit(X_train, y_train, optimizer = \"newton\")\n",
    "pred = model.prediction(X_test)\n",
    "plot_cm(y_test,pred)\n",
    "confusion_matrix(y_test, pred)\n"
   ]
  }
 ],
 "metadata": {
  "kernelspec": {
   "display_name": "Python 3",
   "language": "python",
   "name": "python3"
  },
  "language_info": {
   "codemirror_mode": {
    "name": "ipython",
    "version": 3
   },
   "file_extension": ".py",
   "mimetype": "text/x-python",
   "name": "python",
   "nbconvert_exporter": "python",
   "pygments_lexer": "ipython3",
   "version": "3.7.4"
  }
 },
 "nbformat": 4,
 "nbformat_minor": 2
}
