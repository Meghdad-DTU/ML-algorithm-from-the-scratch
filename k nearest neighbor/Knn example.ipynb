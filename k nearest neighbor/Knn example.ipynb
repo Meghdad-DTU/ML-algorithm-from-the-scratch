{
 "cells": [
  {
   "cell_type": "code",
   "execution_count": 1,
   "metadata": {},
   "outputs": [],
   "source": [
    "from KnnClassifier import Knn\n",
    "import numpy as np\n",
    "from sklearn.model_selection import train_test_split "
   ]
  },
  {
   "cell_type": "code",
   "execution_count": 2,
   "metadata": {},
   "outputs": [],
   "source": [
    "file = \"datingTestSet.txt\""
   ]
  },
  {
   "cell_type": "code",
   "execution_count": 3,
   "metadata": {},
   "outputs": [],
   "source": [
    "## convert text file into matrix\n",
    "def file2matrix(filename, delimeter=\"\\t\", index_y =-1):\n",
    "    fr = open(filename)\n",
    "    numberOfLines = len(fr.readlines())\n",
    "    fr = open(filename)\n",
    "    numberOfX = len(fr.readline().split(delimeter))-1\n",
    "    returnMatX = np.zeros((numberOfLines,numberOfX))\n",
    "    classLabelVector = []\n",
    "    fr = open(filename)\n",
    "    index = 0\n",
    "    for line in fr.readlines():\n",
    "        line = line.strip()                            # remove space between lines (rows)\n",
    "        listFromLine = line.split(delimeter)           # split the line into a list of elements delimited '\\t'.\n",
    "        classLabelVector.append(listFromLine[index_y]) # get target item from the list to put into classLabelVector\n",
    "        listFromLine.pop(index_y)                      # remove the target item at the specified position       \n",
    "        returnMatX[index,:] = listFromLine        \n",
    "        index += 1\n",
    "    return returnMatX,classLabelVector"
   ]
  },
  {
   "cell_type": "code",
   "execution_count": 4,
   "metadata": {},
   "outputs": [
    {
     "data": {
      "text/plain": [
       "(1000, 3)"
      ]
     },
     "execution_count": 4,
     "metadata": {},
     "output_type": "execute_result"
    }
   ],
   "source": [
    "returnMatX,classLabelVector = file2matrix(file)\n",
    "returnMatX.shape"
   ]
  },
  {
   "cell_type": "code",
   "execution_count": 5,
   "metadata": {},
   "outputs": [
    {
     "data": {
      "text/plain": [
       "{'largeDoses': 328, 'smallDoses': 332, 'didntLike': 343}"
      ]
     },
     "execution_count": 5,
     "metadata": {},
     "output_type": "execute_result"
    }
   ],
   "source": [
    "distribution ={}\n",
    "for x in classLabelVector:\n",
    "    distribution[x] = distribution.get(x,1)+1\n",
    "\n",
    "distribution   "
   ]
  },
  {
   "cell_type": "code",
   "execution_count": 6,
   "metadata": {},
   "outputs": [],
   "source": [
    "def scale_data(dataset,method = \"standard\"):\n",
    "    if method == \"standard\":\n",
    "        meanVal = np.mean(dataset,0)\n",
    "        stdVal = np.std(dataset,0)\n",
    "        standardDataset = np.zeros((dataset.shape))\n",
    "        for i in range(dataset.shape[1]):\n",
    "            standardDataset[:,i] = np.array([(x-meanVal[i])/stdVal[i] for x in dataset[:,i]]) \n",
    "        return standardDataset\n",
    "    elif method == \"normal\":\n",
    "        minVal = np.min(dataset,0)\n",
    "        maxVal = np.max(dataset,0)\n",
    "        rangeVal = maxVal - minVal\n",
    "        normDataset = np.zeros((dataset.shape))\n",
    "        for i in range(dataset.shape[1]):\n",
    "            normDataset[:,i] = np.array([(x-minVal[i])/rangeVal[i] for x in dataset[:,i]])\n",
    "        return normDataset\n",
    "    else:\n",
    "        raise Exception(\"There are only two methods: standard and normal\") "
   ]
  },
  {
   "cell_type": "code",
   "execution_count": 7,
   "metadata": {},
   "outputs": [
    {
     "data": {
      "text/plain": [
       "array([[0.44832535, 0.39805139, 0.56233353],\n",
       "       [0.15873259, 0.34195467, 0.98724416],\n",
       "       [0.28542943, 0.06892523, 0.47449629],\n",
       "       ...,\n",
       "       [0.29115949, 0.50910294, 0.51079493],\n",
       "       [0.52711097, 0.43665451, 0.4290048 ],\n",
       "       [0.47940793, 0.3768091 , 0.78571804]])"
      ]
     },
     "execution_count": 7,
     "metadata": {},
     "output_type": "execute_result"
    }
   ],
   "source": [
    "scaledMat = scale_data(returnMatX,method=\"normal\")\n",
    "scaledMat"
   ]
  },
  {
   "cell_type": "code",
   "execution_count": 8,
   "metadata": {},
   "outputs": [],
   "source": [
    "numericClass = []\n",
    "for x in classLabelVector:\n",
    "    if x == 'largeDoses':\n",
    "        numericClass.append(0)\n",
    "    elif x== 'smallDoses':\n",
    "        numericClass.append(1)\n",
    "    else:\n",
    "        numericClass.append(2)"
   ]
  },
  {
   "cell_type": "code",
   "execution_count": 9,
   "metadata": {},
   "outputs": [],
   "source": [
    "X_train, X_test, y_train, y_test = train_test_split(scaledMat, numericClass, test_size=0.33)"
   ]
  },
  {
   "cell_type": "code",
   "execution_count": 14,
   "metadata": {},
   "outputs": [
    {
     "name": "stdout",
     "output_type": "stream",
     "text": [
      "0.9746268656716418\n"
     ]
    },
    {
     "data": {
      "text/plain": [
       "0.9363636363636364"
      ]
     },
     "execution_count": 14,
     "metadata": {},
     "output_type": "execute_result"
    }
   ],
   "source": [
    "model = Knn(5)\n",
    "model.fit(X_train, y_train, \"jaccard\")\n",
    "print(model.score())\n",
    "pred = model.prediction(X_test)\n",
    "SUM = 0\n",
    "accuracy = [pred==true for pred,true in zip(pred, y_test)].count(True)/len(y_test)\n",
    "accuracy"
   ]
  }
 ],
 "metadata": {
  "kernelspec": {
   "display_name": "Python 3",
   "language": "python",
   "name": "python3"
  },
  "language_info": {
   "codemirror_mode": {
    "name": "ipython",
    "version": 3
   },
   "file_extension": ".py",
   "mimetype": "text/x-python",
   "name": "python",
   "nbconvert_exporter": "python",
   "pygments_lexer": "ipython3",
   "version": "3.7.4"
  }
 },
 "nbformat": 4,
 "nbformat_minor": 2
}
