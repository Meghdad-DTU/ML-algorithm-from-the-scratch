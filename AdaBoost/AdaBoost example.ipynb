{
 "cells": [
  {
   "cell_type": "code",
   "execution_count": 21,
   "metadata": {},
   "outputs": [],
   "source": [
    "from AdaBoost import AdaBoost\n",
    "from sklearn.model_selection import train_test_split\n",
    "import matplotlib.pyplot as plt\n",
    "import numpy as np\n",
    "from sklearn.metrics import confusion_matrix"
   ]
  },
  {
   "cell_type": "markdown",
   "metadata": {},
   "source": [
    "$w_i^{(t)}$ : `sample_weights` with shape(T, n)\n",
    "\n",
    "$h_t{(x)}$ : `stumps` with shape(T,)\n",
    "\n",
    "$\\alpha_t$ :`stump_weights` with shape(T, )\n",
    "\n",
    "$\\epsilon_t$: `errors` with shape (T, )\n",
    "\n",
    "$H_t(x)$ : `clf.predict(x)`\n"
   ]
  },
  {
   "cell_type": "markdown",
   "metadata": {},
   "source": [
    "### The AdaBoost algorithm: \n",
    "\n",
    "A) Initialize sample weights uniformly as $w_i^{(1)} = \\frac{1}{n}$\n",
    "\n",
    "B) For each iteration $t$:\n",
    "\n",
    "- 1) Find weak learner $h_t(x)$  which minimizes $\\epsilon_t = \\sum_{i=1}^n1[h_t(x_i)\\ne y_i]w_i(t)$\n",
    "\n",
    "- 2) We set a weight for our weak learner based on its accuracy: $\\alpha_t = \\frac{1}{2} ln( \\frac{1-\\epsilon_t}{\\epsilon_t})$\n",
    "\n",
    "- 3) Increase weights of misclassified observations: $w_i^{(t+1)} = w_i^{(t)}. e^{-\\alpha_ty_ih_t(x_i)}$\n",
    "\n",
    "- 4) Renormalize weights, so that $\\sum_{i=1}^n w_i^{(t+1)} = 1$\n",
    "\n",
    "C) Make final prediction as weighted majority vote of weak learner predictions: $H(x) = sign(\\sum_{t=1}^T \\alpha\n",
    "_th_t(x))$"
   ]
  },
  {
   "cell_type": "code",
   "execution_count": 22,
   "metadata": {},
   "outputs": [],
   "source": [
    "## convert text file into matrix\n",
    "def file2matrix(filename , header = True, delimeter=\"\\t\", index_y = None):\n",
    "    \"\"\"\n",
    "    Takes a .txt file and returns a list of column names,a matrix of features and\n",
    "    a vectore of y in case of having a target variable.\n",
    "    \"\"\"    \n",
    "    fr = open(filename)\n",
    "    colName = []\n",
    "    if header == True:\n",
    "        colName = list(fr.readline().strip().split(delimeter))\n",
    "    numberOfLines = len(fr.readlines())\n",
    "    fr = open(filename)\n",
    "    numberOfX = len(fr.readline().split(delimeter)) \n",
    "    if index_y is not None:\n",
    "        numberOfX = len(fr.readline().split(delimeter))-1                   \n",
    "    returnMatX = np.zeros((numberOfLines,numberOfX))\n",
    "    classLabelVector = []\n",
    "    fr = open(filename)\n",
    "    firstRow = 0\n",
    "    if header == True:\n",
    "        firstRow = 1\n",
    "    index = 0\n",
    "    for line in fr.readlines()[firstRow:]:\n",
    "        line = line.strip()                            \n",
    "        listFromLine = line.split(delimeter)\n",
    "        if index_y is not None:\n",
    "            classLabelVector.append(listFromLine[index_y])\n",
    "            listFromLine.pop(index_y)\n",
    "        fltListFromLine = list(map(lambda x: float(x) if x!=\"\" else np.nan, listFromLine))                                 \n",
    "        returnMatX[index,:] = fltListFromLine        \n",
    "        index += 1\n",
    "    return colName, returnMatX, classLabelVector"
   ]
  },
  {
   "cell_type": "code",
   "execution_count": 23,
   "metadata": {},
   "outputs": [],
   "source": [
    "## confusion matrix plot\n",
    "def plot_cm(y, y_est):\n",
    "    cm = confusion_matrix(y, y_est);\n",
    "    accuracy = np.round(100*cm.diagonal().sum() / cm.sum(),2); error_rate = np.round(100-accuracy,2)\n",
    "    plt.imshow(cm, cmap='binary', interpolation='None')\n",
    "    plt.colorbar()\n",
    "    #plt.xticks(range(C)); plt.yticks(range(C));\n",
    "    plt.xlabel('Predicted class'); plt.ylabel('Actual class');\n",
    "    plt.title('Confusion matrix (Accuracy: {0}%, Error Rate: {1}%)'.format(accuracy, error_rate));"
   ]
  },
  {
   "cell_type": "code",
   "execution_count": 24,
   "metadata": {},
   "outputs": [],
   "source": [
    "filename = \"datingTestSet.txt\"\n",
    "colName, returnMatX, classLabelVector = file2matrix(filename, header = False, index_y = -1)\n",
    "\n",
    "numericClass = []\n",
    "for x in classLabelVector:\n",
    "    if x == 'largeDoses':\n",
    "        numericClass.append(0)\n",
    "    elif x== 'smallDoses':\n",
    "        numericClass.append(1)\n",
    "    else:\n",
    "        numericClass.append(2)"
   ]
  },
  {
   "cell_type": "code",
   "execution_count": 39,
   "metadata": {},
   "outputs": [
    {
     "name": "stdout",
     "output_type": "stream",
     "text": [
      "Training accuracy: 98.06\n"
     ]
    },
    {
     "data": {
      "image/png": "[encoded data removed]",
      "text/plain": [
       "<Figure size 432x288 with 2 Axes>"
      ]
     },
     "metadata": {
      "needs_background": "light"
     },
     "output_type": "display_data"
    }
   ],
   "source": [
    "X = returnMatX\n",
    "y = np.array(numericClass)\n",
    "X_train, X_test, y_train, y_test = train_test_split(X, y, test_size=0.33)\n",
    "model = AdaBoost(classifier = \"DecisionTree\")\n",
    "model.fit(X_train,y_train,100)\n",
    "print(\"Training accuracy: %.2f\"%(model.score()*100))\n",
    "\n",
    "pred = model.prediction(X_test)\n",
    "plot_cm(y_test,pred)"
   ]
  }
 ],
 "metadata": {
  "kernelspec": {
   "display_name": "Python 3",
   "language": "python",
   "name": "python3"
  },
  "language_info": {
   "codemirror_mode": {
    "name": "ipython",
    "version": 3
   },
   "file_extension": ".py",
   "mimetype": "text/x-python",
   "name": "python",
   "nbconvert_exporter": "python",
   "pygments_lexer": "ipython3",
   "version": "3.7.4"
  }
 },
 "nbformat": 4,
 "nbformat_minor": 2
}
