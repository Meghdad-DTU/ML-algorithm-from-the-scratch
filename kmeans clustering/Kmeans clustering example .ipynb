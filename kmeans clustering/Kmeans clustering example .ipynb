{
 "cells": [
  {
   "cell_type": "code",
   "execution_count": 1,
   "metadata": {},
   "outputs": [],
   "source": [
    "from Kmeans import Kmeans, BiKmeans"
   ]
  },
  {
   "cell_type": "code",
   "execution_count": 2,
   "metadata": {},
   "outputs": [],
   "source": [
    "import numpy as np\n",
    "import matplotlib.pyplot as plt"
   ]
  },
  {
   "cell_type": "code",
   "execution_count": 5,
   "metadata": {},
   "outputs": [],
   "source": [
    "## convert text file into matrix\n",
    "def file2matrix(filename , header = True, delimeter=\"\\t\", index_y = None):\n",
    "    \"\"\"\n",
    "    Takes a .txt file and returns a list of column names,a matrix of features and\n",
    "    a vectore of y in case of having a target variable.\n",
    "    \"\"\"    \n",
    "    fr = open(filename)\n",
    "    colName = []\n",
    "    if header == True:\n",
    "        colName = list(fr.readline().strip().split(delimeter))\n",
    "    numberOfLines = len(fr.readlines())\n",
    "    fr = open(filename)\n",
    "    numberOfX = len(fr.readline().split(delimeter)) \n",
    "    if index_y is not None:\n",
    "        numberOfX = len(fr.readline().split(delimeter))-1                   \n",
    "    returnMatX = np.zeros((numberOfLines,numberOfX))\n",
    "    classLabelVector = []\n",
    "    fr = open(filename)\n",
    "    firstRow = 0\n",
    "    if header == True:\n",
    "        firstRow = 1\n",
    "    index = 0\n",
    "    for line in fr.readlines()[firstRow:]:\n",
    "        line = line.strip()                            \n",
    "        listFromLine = line.split(delimeter)\n",
    "        if index_y is not None:\n",
    "            classLabelVector.append(float(listFromLine[index_y]))\n",
    "            listFromLine.pop(index_y)\n",
    "        fltListFromLine = list(map(lambda x: float(x) if x!=\"\" else np.nan, listFromLine))                                 \n",
    "        returnMatX[index,:] = fltListFromLine        \n",
    "        index += 1\n",
    "    return colName, returnMatX, classLabelVector"
   ]
  },
  {
   "cell_type": "code",
   "execution_count": 6,
   "metadata": {},
   "outputs": [],
   "source": [
    "filename = 'testSet.txt'\n",
    "colName, returnMatX, target = file2matrix(filename , header = False, delimeter=\"\\t\")\n",
    "X = returnMatX"
   ]
  },
  {
   "cell_type": "code",
   "execution_count": 7,
   "metadata": {},
   "outputs": [],
   "source": [
    "model = Kmeans(k=4, n_init=3, method = \"euclidean\", maxIter = 300, normalize = False)\n",
    "model.fit(X)\n",
    "model.labels_\n",
    "centroids = model.centroids_\n",
    "labels = model.labels_  "
   ]
  },
  {
   "cell_type": "code",
   "execution_count": 8,
   "metadata": {
    "scrolled": true
   },
   "outputs": [
    {
     "data": {
      "image/png": "[encoded data removed]",
      "text/plain": [
       "<Figure size 432x288 with 1 Axes>"
      ]
     },
     "metadata": {
      "needs_background": "light"
     },
     "output_type": "display_data"
    }
   ],
   "source": [
    "for x, y, lab in zip(X[:,0], X[:,1], labels):\n",
    "    plt.scatter(x,y, color= (lab/3,1/(5*lab+1),1/(lab+1)), edgecolors=\"k\")\n",
    "plt.scatter(centroids[:,0],centroids[:,1],color=\"y\", edgecolors=\"k\");"
   ]
  },
  {
   "cell_type": "code",
   "execution_count": 9,
   "metadata": {},
   "outputs": [],
   "source": [
    "filename = 'testSet2.txt'\n",
    "colName, returnMatX, target = file2matrix(filename , header = False, delimeter=\"\\t\")\n",
    "X = returnMatX"
   ]
  },
  {
   "cell_type": "code",
   "execution_count": 12,
   "metadata": {},
   "outputs": [
    {
     "data": {
      "image/png": "[encoded data removed]",
      "text/plain": [
       "<Figure size 432x288 with 1 Axes>"
      ]
     },
     "metadata": {
      "needs_background": "light"
     },
     "output_type": "display_data"
    }
   ],
   "source": [
    "## bisecting kmeans clustering\n",
    "model = BiKmeans(k=3, method=\"cosine\", maxIter = 300, normalize = False)\n",
    "model.fit(X)\n",
    "centroids = model.centroids_\n",
    "labels = model.labels_\n",
    "for x, y, lab in zip(X[:,0], X[:,1], labels):\n",
    "    plt.scatter(x,y, color= (lab/3,1/(5*lab+1),1/(lab+1)), edgecolors=\"k\")\n",
    "plt.scatter(centroids[:,0],centroids[:,1],color=\"y\", edgecolors=\"k\");"
   ]
  }
 ],
 "metadata": {
  "kernelspec": {
   "display_name": "Python 3",
   "language": "python",
   "name": "python3"
  },
  "language_info": {
   "codemirror_mode": {
    "name": "ipython",
    "version": 3
   },
   "file_extension": ".py",
   "mimetype": "text/x-python",
   "name": "python",
   "nbconvert_exporter": "python",
   "pygments_lexer": "ipython3",
   "version": "3.7.4"
  }
 },
 "nbformat": 4,
 "nbformat_minor": 2
}
